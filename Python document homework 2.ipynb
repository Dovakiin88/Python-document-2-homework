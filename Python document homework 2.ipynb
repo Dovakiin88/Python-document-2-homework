{
 "cells": [
  {
   "cell_type": "code",
   "execution_count": 1,
   "metadata": {},
   "outputs": [
    {
     "name": "stdout",
     "output_type": "stream",
     "text": [
      "[1, 5, 8, 9]\n",
      "[1, 2, 3, 3, 4, 4, 5, 5, 6, 6, 7, 8, 10]\n"
     ]
    }
   ],
   "source": [
    "# Question 1\n",
    "def numsort(list):\n",
    "    z = []\n",
    "    for x in list:\n",
    "        if x<= 10:\n",
    "            z.append(x)\n",
    "    return z\n",
    "\n",
    "\n",
    "print(numsort([1,11,14,5,8,9]))\n",
    "\n",
    "#Question 2\n",
    "\n",
    "list1 = [1,2,3,4,5,6]\n",
    "list2 = [3,4,5,6,7,8,10]\n",
    "\n",
    "\n",
    "def merge(l1, l2):\n",
    "    for x in l2:\n",
    "        l1.append(x)\n",
    "    l1.sort()\n",
    "    return l1\n",
    "\n",
    "\n",
    "print(merge(list1, list2))"
   ]
  },
  {
   "cell_type": "code",
   "execution_count": null,
   "metadata": {},
   "outputs": [],
   "source": []
  }
 ],
 "metadata": {
  "kernelspec": {
   "display_name": "Python 3",
   "language": "python",
   "name": "python3"
  },
  "language_info": {
   "codemirror_mode": {
    "name": "ipython",
    "version": 3
   },
   "file_extension": ".py",
   "mimetype": "text/x-python",
   "name": "python",
   "nbconvert_exporter": "python",
   "pygments_lexer": "ipython3",
   "version": "3.8.5"
  }
 },
 "nbformat": 4,
 "nbformat_minor": 4
}
